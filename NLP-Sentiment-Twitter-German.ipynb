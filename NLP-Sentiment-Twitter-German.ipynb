{
 "cells": [
  {
   "cell_type": "code",
   "execution_count": 1,
   "metadata": {},
   "outputs": [],
   "source": [
    "from dataclasses import dataclass\n",
    "import datetime\n",
    "from germansentiment import SentimentModel\n",
    "import html\n",
    "import pandas as pd \n",
    "import re\n",
    "import snscrape.modules.twitter as sntwitter\n",
    "import sqlite3\n",
    "import torch"
   ]
  },
  {
   "cell_type": "code",
   "execution_count": 2,
   "metadata": {},
   "outputs": [],
   "source": [
    "pd.set_option('display.max_colwidth', None)\n",
    "db_file = 'tweets-de.db'"
   ]
  },
  {
   "cell_type": "code",
   "execution_count": 3,
   "metadata": {},
   "outputs": [],
   "source": [
    "def create_connection(db_file):\n",
    "    \"\"\" create a database connection to the SQLite database\n",
    "        specified by db_file\n",
    "    :param db_file: database file\n",
    "    :return: Connection object or None\n",
    "    \"\"\"\n",
    "    conn = None\n",
    "    try:\n",
    "        conn = sqlite3.connect(db_file)\n",
    "        return conn\n",
    "    except sqlite3.Error as e:\n",
    "        print(e)\n",
    "\n",
    "    return conn\n",
    "\n",
    "def create_table(conn, create_table_sql):\n",
    "    \"\"\" create a table from the create_table_sql statement\n",
    "    :param conn: Connection object\n",
    "    :param create_table_sql: a CREATE TABLE statement\n",
    "    :return:\n",
    "    \"\"\"\n",
    "    try:\n",
    "        c = conn.cursor()\n",
    "        c.execute(create_table_sql)\n",
    "    except sqlite3.Error as e:\n",
    "        print(e)"
   ]
  },
  {
   "cell_type": "code",
   "execution_count": 4,
   "metadata": {},
   "outputs": [],
   "source": [
    "@dataclass\n",
    "class Query:\n",
    "    search_term: str\n",
    "    lang: str\n",
    "    date_from: datetime.datetime\n",
    "    date_to: datetime.datetime\n",
    "    period: str = \"Unspecified\"\n",
    "\n",
    "    def __post_init__(self):\n",
    "        if (self.period == \"Unspecified\"):\n",
    "            self.period = self.date_from.strftime('%Y') + '-' + self.date_to.strftime('%Y')\n",
    "\n",
    "    def __str__(self):\n",
    "        return(self.search_term  + \" lang:\" + self.lang + \" until:\" + self.date_to.strftime('%Y-%m-%d') + \" since:\" + self.date_from.strftime('%Y-%m-%d'))"
   ]
  },
  {
   "cell_type": "code",
   "execution_count": 5,
   "metadata": {},
   "outputs": [],
   "source": [
    "def preprocess_tweet(tweet):\n",
    "    tweet.rawContent = html.unescape(tweet.rawContent)\n",
    "    tweet.rawContent = re.sub(\"@[A-Za-z0-9_]+\", \"\", tweet.rawContent).strip()\n",
    "    tweet.rawContent = re.sub(\"#\", \"\", tweet.rawContent).strip()\n",
    "    tweet.rawContent = re.sub(r\"http\\S+\", \"\", tweet.rawContent)\n",
    "    tweet.rawContent = re.sub(\"(\\\\n)+\", \" \", tweet.rawContent)\n",
    "    tweet.rawContent = re.sub(\"(\\\\'er)\", \"er\", tweet.rawContent)\n",
    "    if tweet.hashtags is not None:\n",
    "        tweet.hashtags = \";\".join(tweet.hashtags)\n",
    "    return tweet"
   ]
  },
  {
   "cell_type": "code",
   "execution_count": 6,
   "metadata": {},
   "outputs": [],
   "source": [
    "def gather_tweets_to_sql(query, conn, limit = 100):\n",
    "    sql_insert = ''' INSERT INTO tweets(id, date, user, lang, search_term, period, content, hashtags, sentiment)\n",
    "              VALUES(?, ?, ?, ?, ?, ?, ?, ?, ?) '''\n",
    "    i = 0\n",
    "    for tweet in sntwitter.TwitterSearchScraper(str(query)).get_items():\n",
    "        if i == limit:\n",
    "            break\n",
    "        else:\n",
    "            i += 1\n",
    "            tweet = preprocess_tweet(tweet)\n",
    "            sql_tweet= (tweet.id, tweet.date, tweet.user.username, tweet.lang, query.search_term, query.period, tweet.rawContent, tweet.hashtags, None)\n",
    "            cur = conn.cursor()\n",
    "            cur.execute(sql_insert, sql_tweet)\n",
    "            conn.commit()"
   ]
  },
  {
   "cell_type": "code",
   "execution_count": 7,
   "metadata": {},
   "outputs": [],
   "source": [
    "def recode_sentiment(sentiment):\n",
    "    if sentiment == \"positive\":\n",
    "        return 1\n",
    "    elif sentiment == \"negative\":\n",
    "        return -1\n",
    "    else:\n",
    "        return 0"
   ]
  },
  {
   "cell_type": "code",
   "execution_count": 8,
   "metadata": {},
   "outputs": [],
   "source": [
    "sql_create_tweets_table = \"\"\"CREATE TABLE tweets (\n",
    "                                       id integer NOT NULL,\n",
    "                                       date TIMESTAMP NOT NULL,\n",
    "                                       user TEXT NOT NULL,\n",
    "                                       lang TEXT NOT NULL,\n",
    "                                       search_term TEXT NOT NULL,\n",
    "                                       period TEXT NOT NULL,\n",
    "                                       content TEXT NOT NULL,\n",
    "                                       hashtags TEXT,\n",
    "                                       sentiment integer,\n",
    "                                       PRIMARY KEY (id, search_term));\"\"\""
   ]
  },
  {
   "cell_type": "code",
   "execution_count": 286,
   "metadata": {},
   "outputs": [
    {
     "data": {
      "text/plain": [
       "<function Connection.close()>"
      ]
     },
     "execution_count": 286,
     "metadata": {},
     "output_type": "execute_result"
    }
   ],
   "source": [
    "# create a database connection\n",
    "conn = create_connection(db_file)\n",
    "create_table(conn, sql_create_tweets_table)\n",
    "conn.close()"
   ]
  },
  {
   "cell_type": "code",
   "execution_count": 288,
   "metadata": {},
   "outputs": [
    {
     "data": {
      "text/plain": [
       "<function Connection.close()>"
      ]
     },
     "execution_count": 288,
     "metadata": {},
     "output_type": "execute_result"
    }
   ],
   "source": [
    "search_terms = [\"Berlin\", \"Hamburg\", \"Köln\", \"München\", \"Frankfurt\"]\n",
    "years_from = [2012, 2013, 2014, 2015, 2016, 2017, 2018, 2019, 2020, 2021, 2022]\n",
    "limit = 10000\n",
    "conn = create_connection(db_file)\n",
    "for s in search_terms:\n",
    "    for y in years_from:\n",
    "        q = Query(s, \"de\", datetime.datetime(y, 12, 31), datetime.datetime(y+1, 1, 2))\n",
    "        gather_tweets_to_sql(q, conn, limit)\n",
    "conn.close()"
   ]
  },
  {
   "cell_type": "code",
   "execution_count": 9,
   "metadata": {},
   "outputs": [],
   "source": [
    "model = SentimentModel()"
   ]
  },
  {
   "cell_type": "code",
   "execution_count": 19,
   "metadata": {},
   "outputs": [],
   "source": [
    "sql_select = \"SELECT id, content FROM tweets ORDER BY id LIMIT ? OFFSET ?\"\n",
    "sql_update = \"UPDATE tweets SET sentiment = ? WHERE id = ?\"\n",
    "conn = create_connection(db_file)\n",
    "cur = conn.cursor()\n",
    "\n",
    "cur.execute(\"SELECT COUNT(*) from tweets\")\n",
    "n_rows = cur.fetchone()[0]\n",
    "batch_size = 1000\n",
    "offset = 0\n",
    "while True:\n",
    "    cur.execute(sql_select, (batch_size, offset))\n",
    "    batch = pd.DataFrame(list(cur), columns = ['id', 'content'])\n",
    "    batch['sentiment'] = list(map(recode_sentiment, model.predict_sentiment(batch['content'])))\n",
    "    batch = batch[['sentiment', 'id']].values.tolist()\n",
    "    cur.executemany(sql_update, batch)\n",
    "    offset += batch_size\n",
    "    if (offset >= n_rows):\n",
    "        break\n",
    "conn.commit()\n",
    "conn.close()\n"
   ]
  },
  {
   "cell_type": "code",
   "execution_count": 20,
   "metadata": {},
   "outputs": [],
   "source": [
    "del model\n",
    "torch.cuda.empty_cache()"
   ]
  }
 ],
 "metadata": {
  "kernelspec": {
   "display_name": "NLP-Sentiment-Twitter-German",
   "language": "python",
   "name": "python3"
  },
  "language_info": {
   "codemirror_mode": {
    "name": "ipython",
    "version": 3
   },
   "file_extension": ".py",
   "mimetype": "text/x-python",
   "name": "python",
   "nbconvert_exporter": "python",
   "pygments_lexer": "ipython3",
   "version": "3.10.9"
  },
  "orig_nbformat": 4,
  "vscode": {
   "interpreter": {
    "hash": "399435e737e6b0b83f773b6c74d6294294f4da6ee506ec6b0c40e777a2ebdc76"
   }
  }
 },
 "nbformat": 4,
 "nbformat_minor": 2
}
