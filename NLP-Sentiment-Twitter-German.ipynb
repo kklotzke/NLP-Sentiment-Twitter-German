{
 "cells": [
  {
   "cell_type": "code",
   "execution_count": 74,
   "metadata": {},
   "outputs": [],
   "source": [
    "from germansentiment import SentimentModel\n",
    "import html\n",
    "import pandas as pd \n",
    "import re\n",
    "import snscrape.modules.twitter as sntwitter\n",
    "import torch"
   ]
  },
  {
   "cell_type": "code",
   "execution_count": 42,
   "metadata": {},
   "outputs": [],
   "source": [
    "pd.set_option('display.max_colwidth', None)"
   ]
  },
  {
   "cell_type": "code",
   "execution_count": 83,
   "metadata": {},
   "outputs": [
    {
     "name": "stdout",
     "output_type": "stream",
     "text": [
      "                          Date             User  \\\n",
      "0    2023-01-01 23:56:38+00:00      SamJimmyjoe   \n",
      "1    2023-01-01 23:51:47+00:00          _AIQIA_   \n",
      "2    2023-01-01 23:51:31+00:00  WetterPrenzBerg   \n",
      "3    2023-01-01 23:48:19+00:00          Wolf_X5   \n",
      "4    2023-01-01 23:46:12+00:00      RDR2_Zocker   \n",
      "...                        ...              ...   \n",
      "2151 2022-12-31 00:40:29+00:00       GrafZahl13   \n",
      "2152 2022-12-31 00:14:06+00:00       nafrodamus   \n",
      "2153 2022-12-31 00:11:57+00:00      Wolf__Odins   \n",
      "2154 2022-12-31 00:04:54+00:00      Wolf__Odins   \n",
      "2155 2022-12-31 00:01:04+00:00        UweHiksch   \n",
      "\n",
      "                                                                                                                                                                                                                                                                                                                                         Tweet  \n",
      "0                                                                              Was war den bitte in der Silvesternacht in #Deutschland, vor allem wohl #Berlin los? Böller auf Einsatzfahrzeuge, sowie Feuerwehr, die gerade dabei ist Brände zu löschen. Vermummt, da Papa einem im TV erkennen könnte, neben Journalisten ne Waffe abfeuern.  \n",
      "1                                                Ich hoffe d zahlreichen Videos zur #Berlin'er #Silvesternacht, werden von der #Polizei entsprechend ausgewertet! Die #Schuldigen gehören zur #Rechenschaft gezogen!\\n\\nSelbst @Karl_Lauterbach fordert: \"Wohnung kündigen\"\\n\\n#Berlinsilvester #Silvesterfeuerwerk\\n\\nhttps://t.co/6CcjomOE5o  \n",
      "2                                                                                                                                                                                                             #Wetter #Berlin Prenzl.Berg 00h: leicht bewölkt, 12° (Min 11.6°, Max 15.5°), 78% Feuchte, S-Wind 12 km/h https://t.co/1lTdjbHv4R  \n",
      "3     @GdPHauptstadt @polizeiberlin @Berliner_Fw @Polreporterin @dpa @rbbabendschau @rbb24 @Berlin_Ticker @BILD_Berlin @berlinerzeitung @RTL_com @Tagesspiegel @tagesschau Also sollen anständige Bürger bestraft werden, welche friedfertig feuerwerken, weil #Berlin sein Kriminalitätsproblem nicht in Griff bekommt. Sehe ich das richtig?  \n",
      "4                                                                                                                                                                                                                                                                   Hat da die Gruppe evtl. für Polizeifahrzeuge geübt? #Berlin #Silvester2022  \n",
      "...                                                                                                                                                                                                                                                                                                                                        ...  \n",
      "2151                                                                                                                                                                                                                @polizeiberlin Wäre es nicht in #Berlin dann wäre das evtl. noch eine Meldung wert. So ist es halt nur noch Tagesgeschäft!  \n",
      "2152                                                                                                                        Wie werden sich die #Medien entwickeln? \\n ________ \\n #Massenmedien #Bundestag #Digitalisierung #Muenchen #Berlin #DigitaleBildung #Frankfurt #Digitalisierung #Augsburg #Arbeitsmarkt \\n https://t.co/o6hFcUZcSx  \n",
      "2153                                                                                                                                                                                                                                                                      @berlinerzeitung Schön diese multikulturelle Bereicherung in #Berlin  \n",
      "2154                                                                                                                                                                                                                                                                                   @tonline Schön diese multikulturellen Feier in #Berlin.  \n",
      "2155                                                                                                                                                                                  Im Bezirk regt sich Widerstand gegen AfD-Parteizentrale in Wittenau \\n\\nhttps://t.co/Ngd0xCYXpe \\n\\n#antifa #antira #noAfD #AfDstoppen #StoppAfD #Berlin  \n",
      "\n",
      "[2156 rows x 3 columns]\n"
     ]
    }
   ],
   "source": [
    "query = \"#berlin lang:de until:2023-01-02 since:2022-12-31\"\n",
    "tweets = []\n",
    "limit = 5000\n",
    "\n",
    "for tweet in sntwitter.TwitterSearchScraper(query).get_items():\n",
    "    if len(tweets) == limit:\n",
    "        break\n",
    "    else:\n",
    "        tweets.append([tweet.date, tweet.user.username, tweet.rawContent])\n",
    "        \n",
    "df = pd.DataFrame(tweets, columns=['Date', 'User', 'Tweet'])\n",
    "print(df)"
   ]
  },
  {
   "cell_type": "code",
   "execution_count": 70,
   "metadata": {},
   "outputs": [],
   "source": [
    "def preprocess_tweet(rawContent):\n",
    "    rawContent = html.unescape(rawContent)\n",
    "    rawContent = re.sub(\"@[A-Za-z0-9_]+\", \"\", rawContent).strip()\n",
    "    rawContent = re.sub(\"#\", \"\", rawContent).strip()\n",
    "    rawContent = re.sub(r\"http\\S+\", \"\", rawContent)\n",
    "    rawContent = re.sub(\"(\\\\n)+\", \" \", rawContent)\n",
    "    rawContent = re.sub(\"(\\\\'er)\", \"er\", rawContent)\n",
    "    return rawContent"
   ]
  },
  {
   "cell_type": "code",
   "execution_count": 84,
   "metadata": {},
   "outputs": [],
   "source": [
    "df['Tweet'] = df.apply(lambda row: preprocess_tweet(row['Tweet'] ), axis = 1)"
   ]
  },
  {
   "cell_type": "code",
   "execution_count": 72,
   "metadata": {},
   "outputs": [
    {
     "data": {
      "text/html": [
       "<div>\n",
       "<style scoped>\n",
       "    .dataframe tbody tr th:only-of-type {\n",
       "        vertical-align: middle;\n",
       "    }\n",
       "\n",
       "    .dataframe tbody tr th {\n",
       "        vertical-align: top;\n",
       "    }\n",
       "\n",
       "    .dataframe thead th {\n",
       "        text-align: right;\n",
       "    }\n",
       "</style>\n",
       "<table border=\"1\" class=\"dataframe\">\n",
       "  <thead>\n",
       "    <tr style=\"text-align: right;\">\n",
       "      <th></th>\n",
       "      <th>Date</th>\n",
       "      <th>User</th>\n",
       "      <th>Tweet</th>\n",
       "    </tr>\n",
       "  </thead>\n",
       "  <tbody>\n",
       "    <tr>\n",
       "      <th>25</th>\n",
       "      <td>2023-01-01 23:08:21+00:00</td>\n",
       "      <td>nologyy</td>\n",
       "      <td>Muslimische Migranten: Wow, Deutschland ist so rassistisch, warum sind wir unbeliebter als ukrainische Migranten?  Auch muslimische Migranten: Yeah, F*ck the Police, F*ck Deutschland, wir scheißen auf eure Regeln und legen eure Stadt in Schutt und Asche. Berlin</td>\n",
       "    </tr>\n",
       "    <tr>\n",
       "      <th>26</th>\n",
       "      <td>2023-01-01 23:05:20+00:00</td>\n",
       "      <td>Ichsagsja</td>\n",
       "      <td>Es ist entsetzlich, was da in Berlin in der letzten Nacht abgegangen ist. Ich bin mir allerdings nicht sicher, ob die deutsche Gesellschaft in der Lage ist, die Ursachen klar zu analysieren. Ein unideologischer Blick auf Geschlecht, Schicht, kulturellem Hintergrund,... 1/</td>\n",
       "    </tr>\n",
       "    <tr>\n",
       "      <th>27</th>\n",
       "      <td>2023-01-01 23:03:09+00:00</td>\n",
       "      <td>GreenKraut</td>\n",
       "      <td>Erschreckend Bilder von Angriffen auf Polizei, Feuerwehr und Hilfskräfte mit Böllern in der Berlin-er Silversternacht Eine Einschränkung von Feuerwerk in den Händen von Privatleuten wäre somit logisch und wünschenswert. Böllerverbot via ChangeOrg</td>\n",
       "    </tr>\n",
       "    <tr>\n",
       "      <th>28</th>\n",
       "      <td>2023-01-01 23:02:44+00:00</td>\n",
       "      <td>TributeCopCar</td>\n",
       "      <td>⚫️🔵⚫️ 🇪🇺🇩🇪 Berlin Jahreswechsel Dem ist nichts hinzuzufügen:</td>\n",
       "    </tr>\n",
       "    <tr>\n",
       "      <th>29</th>\n",
       "      <td>2023-01-01 22:59:57+00:00</td>\n",
       "      <td>stfnkng</td>\n",
       "      <td>In Berlin zeigt sich wie die 🇩🇪Staatlichkeit zerfällt und scheitert. Ein Staat der das Gewaltmonopol zunehmend nicht mehr zum Schutze der Bevölkerung aufrechterhalten kann wird zurecht als „failing State“ bezeichnet.</td>\n",
       "    </tr>\n",
       "    <tr>\n",
       "      <th>30</th>\n",
       "      <td>2023-01-01 22:59:47+00:00</td>\n",
       "      <td>hintz</td>\n",
       "      <td>Es ist Krieg in Europa. Amateur Pyromanen Berlin Silvester Neujahr Straftat Lärm giftig gefährlich Feuer brennen Angriff kriminell sparen Zerstörung Wut</td>\n",
       "    </tr>\n",
       "    <tr>\n",
       "      <th>31</th>\n",
       "      <td>2023-01-01 22:59:05+00:00</td>\n",
       "      <td>TributeCopCar</td>\n",
       "      <td>⚫️🔵⚫️ 🇪🇺🇩🇪 Berlin Das DARF so NICHT weitergehen!!  👉🏼 WeBackTheBlue !</td>\n",
       "    </tr>\n",
       "    <tr>\n",
       "      <th>32</th>\n",
       "      <td>2023-01-01 22:58:31+00:00</td>\n",
       "      <td>Migista01</td>\n",
       "      <td>Huhu Frau , wenn Sie bei einer Razzia mal mehr als 10 illegale Waffen, wie bei den \"Reichsbürgern\", entdecken wollen, hätten Sie nur unter den westasiatischen Böller-Kriminellen in Berlin suchen müssen. Dafür hätten weniger als 3.000 Polizisten gereicht.🤷🤔🙈🙉🙊</td>\n",
       "    </tr>\n",
       "    <tr>\n",
       "      <th>33</th>\n",
       "      <td>2023-01-01 22:54:15+00:00</td>\n",
       "      <td>BraasGisela</td>\n",
       "      <td>Kurz gesagt, ist Berlin ein Problem und zwar in JEDER HINSICHT!! boellerverbot</td>\n",
       "    </tr>\n",
       "    <tr>\n",
       "      <th>34</th>\n",
       "      <td>2023-01-01 22:54:07+00:00</td>\n",
       "      <td>vonAVENdeForum</td>\n",
       "      <td>Was für ein asoziales Dreckspack hat in Berlin  Einsatzkräfte angegriffen u in einen Hinterhalt gelockt u mit Waffen bedroht u angegriffen? Ihr seid doch nicht mehr normal! IHR seid die Verbrecher nicht die Klimaaktivisten! Kriminell Berlinsilvester DankeFeuerwehrBerlin</td>\n",
       "    </tr>\n",
       "    <tr>\n",
       "      <th>35</th>\n",
       "      <td>2023-01-01 22:51:04+00:00</td>\n",
       "      <td>ChrisR_oe</td>\n",
       "      <td>boellerverbot Erst Trottel entfernen, dann Böller erlauben … wird hier nicht mehr funktionieren Neukoelln berlin   Wir alle gegen diese Spackos, nicht alles gefallen lassen 🤮🤮🤮🤮🤮🤮</td>\n",
       "    </tr>\n",
       "    <tr>\n",
       "      <th>36</th>\n",
       "      <td>2023-01-01 22:50:08+00:00</td>\n",
       "      <td>UMauerblumchen</td>\n",
       "      <td>Natürlich gab es vor einigen Jahren keine Vorfälle dieser Intensität, wie wir es gestern aus Berlin und anderen Städten gesehen haben.  Brandner, vor einigen Jahren gab es auch noch keine AfD, die die Bürger das ganze Jahr über gegen den Staat aufstacheln. Silvester2022</td>\n",
       "    </tr>\n",
       "    <tr>\n",
       "      <th>37</th>\n",
       "      <td>2023-01-01 22:48:39+00:00</td>\n",
       "      <td>MartinB69308917</td>\n",
       "      <td>Einsatzkräfte 💪👍 Ausschreitungen Berlin... Diesem Pöbel geht es zu gut!🤢👎</td>\n",
       "    </tr>\n",
       "    <tr>\n",
       "      <th>38</th>\n",
       "      <td>2023-01-01 22:42:30+00:00</td>\n",
       "      <td>ChZoepfchen</td>\n",
       "      <td>Silvester2022 hat mal wieder gezeigt, dass Berlin ein Failed State ist. Da wird einmal mehr das Ergebnis dunkelrot-rot-grüner Politik deutlich.</td>\n",
       "    </tr>\n",
       "    <tr>\n",
       "      <th>39</th>\n",
       "      <td>2023-01-01 22:42:17+00:00</td>\n",
       "      <td>_BB_RADIO_MUSIC</td>\n",
       "      <td>nowplaying AnnaNaklab AlleFarben Younotus ~ Anna Naklab feat. Alle Farben &amp; Younotus | Supergirl ||| BB RADIO - In Berlin GER auf 107.5</td>\n",
       "    </tr>\n",
       "  </tbody>\n",
       "</table>\n",
       "</div>"
      ],
      "text/plain": [
       "                        Date             User  \\\n",
       "25 2023-01-01 23:08:21+00:00          nologyy   \n",
       "26 2023-01-01 23:05:20+00:00        Ichsagsja   \n",
       "27 2023-01-01 23:03:09+00:00       GreenKraut   \n",
       "28 2023-01-01 23:02:44+00:00    TributeCopCar   \n",
       "29 2023-01-01 22:59:57+00:00          stfnkng   \n",
       "30 2023-01-01 22:59:47+00:00            hintz   \n",
       "31 2023-01-01 22:59:05+00:00    TributeCopCar   \n",
       "32 2023-01-01 22:58:31+00:00        Migista01   \n",
       "33 2023-01-01 22:54:15+00:00      BraasGisela   \n",
       "34 2023-01-01 22:54:07+00:00   vonAVENdeForum   \n",
       "35 2023-01-01 22:51:04+00:00        ChrisR_oe   \n",
       "36 2023-01-01 22:50:08+00:00   UMauerblumchen   \n",
       "37 2023-01-01 22:48:39+00:00  MartinB69308917   \n",
       "38 2023-01-01 22:42:30+00:00      ChZoepfchen   \n",
       "39 2023-01-01 22:42:17+00:00  _BB_RADIO_MUSIC   \n",
       "\n",
       "                                                                                                                                                                                                                                                                               Tweet  \n",
       "25             Muslimische Migranten: Wow, Deutschland ist so rassistisch, warum sind wir unbeliebter als ukrainische Migranten?  Auch muslimische Migranten: Yeah, F*ck the Police, F*ck Deutschland, wir scheißen auf eure Regeln und legen eure Stadt in Schutt und Asche. Berlin  \n",
       "26  Es ist entsetzlich, was da in Berlin in der letzten Nacht abgegangen ist. Ich bin mir allerdings nicht sicher, ob die deutsche Gesellschaft in der Lage ist, die Ursachen klar zu analysieren. Ein unideologischer Blick auf Geschlecht, Schicht, kulturellem Hintergrund,... 1/  \n",
       "27                          Erschreckend Bilder von Angriffen auf Polizei, Feuerwehr und Hilfskräfte mit Böllern in der Berlin-er Silversternacht Eine Einschränkung von Feuerwerk in den Händen von Privatleuten wäre somit logisch und wünschenswert. Böllerverbot via ChangeOrg    \n",
       "28                                                                                                                                                                                                                      ⚫️🔵⚫️ 🇪🇺🇩🇪 Berlin Jahreswechsel Dem ist nichts hinzuzufügen:  \n",
       "29                                                          In Berlin zeigt sich wie die 🇩🇪Staatlichkeit zerfällt und scheitert. Ein Staat der das Gewaltmonopol zunehmend nicht mehr zum Schutze der Bevölkerung aufrechterhalten kann wird zurecht als „failing State“ bezeichnet.  \n",
       "30                                                                                                                          Es ist Krieg in Europa. Amateur Pyromanen Berlin Silvester Neujahr Straftat Lärm giftig gefährlich Feuer brennen Angriff kriminell sparen Zerstörung Wut  \n",
       "31                                                                                                                                                                                                             ⚫️🔵⚫️ 🇪🇺🇩🇪 Berlin Das DARF so NICHT weitergehen!!  👉🏼 WeBackTheBlue !  \n",
       "32               Huhu Frau , wenn Sie bei einer Razzia mal mehr als 10 illegale Waffen, wie bei den \"Reichsbürgern\", entdecken wollen, hätten Sie nur unter den westasiatischen Böller-Kriminellen in Berlin suchen müssen. Dafür hätten weniger als 3.000 Polizisten gereicht.🤷🤔🙈🙉🙊  \n",
       "33                                                                                                                                                                                                    Kurz gesagt, ist Berlin ein Problem und zwar in JEDER HINSICHT!! boellerverbot  \n",
       "34    Was für ein asoziales Dreckspack hat in Berlin  Einsatzkräfte angegriffen u in einen Hinterhalt gelockt u mit Waffen bedroht u angegriffen? Ihr seid doch nicht mehr normal! IHR seid die Verbrecher nicht die Klimaaktivisten! Kriminell Berlinsilvester DankeFeuerwehrBerlin  \n",
       "35                                                                                             boellerverbot Erst Trottel entfernen, dann Böller erlauben … wird hier nicht mehr funktionieren Neukoelln berlin   Wir alle gegen diese Spackos, nicht alles gefallen lassen 🤮🤮🤮🤮🤮🤮    \n",
       "36    Natürlich gab es vor einigen Jahren keine Vorfälle dieser Intensität, wie wir es gestern aus Berlin und anderen Städten gesehen haben.  Brandner, vor einigen Jahren gab es auch noch keine AfD, die die Bürger das ganze Jahr über gegen den Staat aufstacheln. Silvester2022  \n",
       "37                                                                                                                                                                                                         Einsatzkräfte 💪👍 Ausschreitungen Berlin... Diesem Pöbel geht es zu gut!🤢👎  \n",
       "38                                                                                                                                   Silvester2022 hat mal wieder gezeigt, dass Berlin ein Failed State ist. Da wird einmal mehr das Ergebnis dunkelrot-rot-grüner Politik deutlich.  \n",
       "39                                                                                                                                           nowplaying AnnaNaklab AlleFarben Younotus ~ Anna Naklab feat. Alle Farben & Younotus | Supergirl ||| BB RADIO - In Berlin GER auf 107.5  "
      ]
     },
     "execution_count": 72,
     "metadata": {},
     "output_type": "execute_result"
    }
   ],
   "source": [
    "df.iloc[25:40,:]"
   ]
  },
  {
   "cell_type": "code",
   "execution_count": 93,
   "metadata": {},
   "outputs": [
    {
     "data": {
      "text/plain": [
       "neutral     1585\n",
       "negative     507\n",
       "positive      64\n",
       "Name: Sentiment, dtype: int64"
      ]
     },
     "execution_count": 93,
     "metadata": {},
     "output_type": "execute_result"
    }
   ],
   "source": [
    "model = SentimentModel()\n",
    "df['Sentiment'] = model.predict_sentiment(df.iloc[:,2])\n",
    "df['Sentiment'].value_counts() "
   ]
  },
  {
   "cell_type": "code",
   "execution_count": 92,
   "metadata": {},
   "outputs": [],
   "source": [
    "del model\n",
    "torch.cuda.empty_cache()"
   ]
  }
 ],
 "metadata": {
  "kernelspec": {
   "display_name": "NLP-Sentiment-Twitter-German",
   "language": "python",
   "name": "python3"
  },
  "language_info": {
   "codemirror_mode": {
    "name": "ipython",
    "version": 3
   },
   "file_extension": ".py",
   "mimetype": "text/x-python",
   "name": "python",
   "nbconvert_exporter": "python",
   "pygments_lexer": "ipython3",
   "version": "3.10.9"
  },
  "orig_nbformat": 4,
  "vscode": {
   "interpreter": {
    "hash": "399435e737e6b0b83f773b6c74d6294294f4da6ee506ec6b0c40e777a2ebdc76"
   }
  }
 },
 "nbformat": 4,
 "nbformat_minor": 2
}
